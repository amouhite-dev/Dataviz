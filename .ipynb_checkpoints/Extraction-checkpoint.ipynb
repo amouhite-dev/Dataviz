{
 "cells": [
  {
   "cell_type": "code",
   "execution_count": null,
   "metadata": {},
   "outputs": [],
   "source": [
    "import pandas as pd\n",
    "import openpyxl"
   ]
  },
  {
   "cell_type": "code",
   "execution_count": null,
   "metadata": {},
   "outputs": [],
   "source": [
    "data_to_extract = pd.read_excel('Suivi_PRI.xlsx', sheet_name=\"Donnees_Sorties\")"
   ]
  },
  {
   "cell_type": "code",
   "execution_count": null,
   "metadata": {},
   "outputs": [],
   "source": [
    "data_to_extract"
   ]
  },
  {
   "cell_type": "code",
   "execution_count": null,
   "metadata": {},
   "outputs": [],
   "source": [
    "\"\"\" Ask the file to use and load \"\"\"\n",
    "name_file = \"Suivi_PRI.xlsx\"#input('Entrez le nom du fichier a analyser : ')+\".xlsx\"\n",
    "name_sheet = \"Donnees_Sorties\" #input(\"Entrez le nom de la feuille a analyser : \")\n",
    "name_keyword_for_extract = \"9 OFFICE IMS\"#input(\"Le nom de la colonne en fonction duquel se fera le doublons :  \")\n",
    "name_new_file_extract = \"New_\"+name_file#input(\"Nom du nouveau fichier créé : \")+\"xlsx\"\n",
    "name_col = \"Offre\"\n",
    "name_id_to_sort = \"Bdsid\"\n",
    "dest_filename = name_file\n",
    "data_to_extract = pd.read_excel(dest_filename, sheet_name=name_sheet) # read file to give \n",
    "new_data = data_to_extract[data_to_extract[name_col]==name_keyword_for_extract].sort_values(by=[name_id_to_sort]) # make \n",
    "# extraction from dest_filename for having only data link to nele_keywork_for_extract\n",
    "data_to_treat = new_data[[\"Bdsid\", \"Master Id\",\"Client\",\"Site\",\"Offre\", \"Declinaison Offre\", \"Cdp\",\"Manager Cdp\", \n",
    "                          \"Equipe Cdp\", \"Date Signature\", \"Date Debut Dplt\", \n",
    "                          \"Date Installation Client\", \"Date Mise En Service\", \n",
    "                          \"Date Engagement\", \"Délai Déploiement (Jour ouvré) Dim\", \n",
    "                          \"Date_Min_Lien_BDSID\",\t\"Date Cr Lien BDSID\", \"Date Mef\", \n",
    "                          \"Date Affectationcdp\"]] # only column that I want\n",
    "data_to_treat.to_excel(name_new_file_extract, sheet_name=name_sheet, index = False) # create new \n",
    "# file contains data in new_data\n",
    "print(\"fini\")"
   ]
  },
  {
   "cell_type": "code",
   "execution_count": null,
   "metadata": {},
   "outputs": [],
   "source": [
    "pd.read_excel('New_Suivi_PRI.xlsx')"
   ]
  },
  {
   "cell_type": "code",
   "execution_count": null,
   "metadata": {},
   "outputs": [],
   "source": []
  }
 ],
 "metadata": {
  "kernelspec": {
   "display_name": "Python 3",
   "language": "python",
   "name": "python3"
  },
  "language_info": {
   "codemirror_mode": {
    "name": "ipython",
    "version": 3
   },
   "file_extension": ".py",
   "mimetype": "text/x-python",
   "name": "python",
   "nbconvert_exporter": "python",
   "pygments_lexer": "ipython3",
   "version": "3.8.5"
  }
 },
 "nbformat": 4,
 "nbformat_minor": 4
}
